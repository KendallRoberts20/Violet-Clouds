{
 "cells": [
  {
   "cell_type": "code",
   "execution_count": 2,
   "id": "8f4edecb",
   "metadata": {},
   "outputs": [],
   "source": [
    "import numpy as np \n",
    "import pandas as pd "
   ]
  },
  {
   "cell_type": "code",
   "execution_count": 3,
   "id": "62e3e91a",
   "metadata": {},
   "outputs": [],
   "source": [
    "weather_df = pd.read_csv('WeatherUS.csv')"
   ]
  },
  {
   "cell_type": "code",
   "execution_count": null,
   "id": "300c4188",
   "metadata": {},
   "outputs": [],
   "source": []
  }
 ],
 "metadata": {
  "kernelspec": {
   "display_name": "Python 3",
   "language": "python",
   "name": "python3"
  },
  "language_info": {
   "codemirror_mode": {
    "name": "ipython",
    "version": 3
   },
   "file_extension": ".py",
   "mimetype": "text/x-python",
   "name": "python",
   "nbconvert_exporter": "python",
   "pygments_lexer": "ipython3",
   "version": "3.8.8"
  }
 },
 "nbformat": 4,
 "nbformat_minor": 5
}
